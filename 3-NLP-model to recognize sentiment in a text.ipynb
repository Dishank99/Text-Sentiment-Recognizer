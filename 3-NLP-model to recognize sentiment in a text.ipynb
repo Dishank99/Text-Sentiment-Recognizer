{
 "cells": [
  {
   "cell_type": "code",
   "execution_count": 115,
   "metadata": {},
   "outputs": [],
   "source": [
    "# here we are using text for recognizing sentiments\n",
    "# basically buillding classifier to classify whether text is srcastic or not\n",
    "# for which we are using a dataset..from Rishabh Misra\n",
    "\n",
    "# the dataset is in json format\n",
    "# we need to convert it into python object format"
   ]
  },
  {
   "cell_type": "code",
   "execution_count": 141,
   "metadata": {},
   "outputs": [
    {
     "name": "stdout",
     "output_type": "stream",
     "text": [
      "airline passengers tackle man who rushes cockpit in bomb threat\n",
      "0\n",
      "https://www.huffingtonpost.com/entry/airline-passengers-tackle-man-who-rushes-cockpit-in-bomb-threat_us_59302e57e4b07572bdbf9460\n"
     ]
    }
   ],
   "source": [
    "import json\n",
    "\n",
    "sentences = []\n",
    "labels = []\n",
    "urls = []\n",
    "\n",
    "\n",
    "for data in open(\"Sarcasm_Headlines_Dataset.json\",'r'):\n",
    "    sentences.append(json.loads(data)['headline'])\n",
    "    labels.append(json.loads(data)['is_sarcastic'])\n",
    "    urls.append(json.loads(data)['article_link'])\n",
    "    \n",
    "print(sentences[10])\n",
    "print(labels[10]) #labels = 1 if sarcastic otherwise 0\n",
    "print(urls[10])"
   ]
  },
  {
   "cell_type": "code",
   "execution_count": 142,
   "metadata": {},
   "outputs": [],
   "source": [
    "from tensorflow.keras.preprocessing.text import Tokenizer\n",
    "from tensorflow.keras.preprocessing.sequence import pad_sequences\n",
    "\n",
    "tokenizer = Tokenizer(oov_token='<OOV>')\n",
    "tokenizer.fit_on_texts(sentences)\n",
    "word_index = tokenizer.word_index\n",
    "\n",
    "sequences = tokenizer.texts_to_sequences(sentences)\n",
    "\n",
    "padded = pad_sequences(sequences,padding='post')"
   ]
  },
  {
   "cell_type": "code",
   "execution_count": 143,
   "metadata": {},
   "outputs": [
    {
     "name": "stdout",
     "output_type": "stream",
     "text": [
      "[  308 15115   679  3337  2298    48   382  2576 15116     6  2577  8434\n",
      "     0     0     0     0     0     0     0     0     0     0     0     0\n",
      "     0     0     0     0     0     0     0     0     0     0     0     0\n",
      "     0     0     0     0]\n",
      "(26709, 40)\n"
     ]
    }
   ],
   "source": [
    "#print(word_index)\n",
    "print(padded[0])\n",
    "print(padded.shape)"
   ]
  },
  {
   "cell_type": "code",
   "execution_count": 144,
   "metadata": {},
   "outputs": [],
   "source": [
    "# for trainig a model we need to have training set and the testing set\n",
    "# but in this case, we have just 26709 set of data and no partition for trainig and testing\n",
    "# so before training we need to partition the dataset into trainig set and testing set ny slicing"
   ]
  },
  {
   "cell_type": "code",
   "execution_count": 145,
   "metadata": {},
   "outputs": [],
   "source": [
    "training_size = int(0.8 * len(padded))\n",
    "#testing_size = len(padded) - training_size\n",
    "\n",
    "training_sentences = sentences[:training_size]\n",
    "training_labels = labels[:training_size]\n",
    "\n",
    "testing_sentences = sentences[training_size:]\n",
    "testing_labels = labels[training_size:]"
   ]
  },
  {
   "cell_type": "code",
   "execution_count": 146,
   "metadata": {},
   "outputs": [],
   "source": [
    "# we need to ensure that neural network only sees the training data and not the testing data\n",
    "# that means we nedd to make sure the we tokenize only the trainig data for word_index\n",
    "\n",
    "#earlier we used to pass sentences to toeknizer now we need to pass training_sentences to tokenizer"
   ]
  },
  {
   "cell_type": "code",
   "execution_count": 147,
   "metadata": {},
   "outputs": [],
   "source": [
    "vocab_size=10000\n",
    "embedding_dim = 16\n",
    "max_length=100"
   ]
  },
  {
   "cell_type": "code",
   "execution_count": 148,
   "metadata": {},
   "outputs": [],
   "source": [
    "tokenizer = Tokenizer(num_words=vocab_size,oov_token = '<OOV>')\n",
    "tokenizer.fit_on_texts(training_sentences)\n",
    "word_index = tokenizer.word_index\n",
    "\n",
    "training_sequences = tokenizer.texts_to_sequences(training_sentences)\n",
    "training_sequences_padded = pad_sequences(training_sequences,padding='post',maxlen=100,truncating='post')\n",
    "\n",
    "testing_sequences = tokenizer.texts_to_sequences(testing_sentences)\n",
    "testing_sequences_padded = pad_sequences(testing_sequences,padding='post',maxlen=100,truncating='post')"
   ]
  },
  {
   "cell_type": "code",
   "execution_count": 149,
   "metadata": {},
   "outputs": [],
   "source": [
    "# now we tave toeknized the word using numeric tokens and formed sequences\n",
    "# but how do we form the meaning of sentences just from number\n",
    "# that means, how can we find whether the sentence is sarcastic just by looking at numbers\n",
    "\n",
    "# here where the concepts of 'Embeddings' comes\n"
   ]
  },
  {
   "cell_type": "code",
   "execution_count": 150,
   "metadata": {},
   "outputs": [],
   "source": [
    "import numpy as np\n",
    "training_sequences_padded = np.array(training_sequences_padded)\n",
    "training_labels = np.array(training_labels)\n",
    "testing_sequences_padded = np.array(testing_sequences_padded)\n",
    "testing_labels = np.array(testing_labels)"
   ]
  },
  {
   "cell_type": "code",
   "execution_count": 151,
   "metadata": {},
   "outputs": [],
   "source": [
    "# building model\n",
    "from keras.models import Sequential\n",
    "from keras.layers import Embedding, GlobalAveragePooling1D, Dense\n",
    "\n",
    "model = Sequential([\n",
    "    Embedding(vocab_size, embedding_dim, input_length=max_length),\n",
    "    GlobalAveragePooling1D(),\n",
    "    Dense(24,activation='relu'),\n",
    "    Dense(1,activation='sigmoid'),\n",
    "])\n",
    "\n",
    "model.compile(\n",
    "    optimizer='adam',\n",
    "    loss='binary_crossentropy',\n",
    "    metrics=['accuracy']\n",
    ")"
   ]
  },
  {
   "cell_type": "code",
   "execution_count": 152,
   "metadata": {},
   "outputs": [
    {
     "name": "stdout",
     "output_type": "stream",
     "text": [
      "Train on 21367 samples, validate on 5342 samples\n",
      "Epoch 1/30\n",
      " - 2s - loss: 0.6672 - accuracy: 0.5907 - val_loss: 0.5908 - val_accuracy: 0.7703\n",
      "Epoch 2/30\n",
      " - 2s - loss: 0.4555 - accuracy: 0.8255 - val_loss: 0.4014 - val_accuracy: 0.8220\n",
      "Epoch 3/30\n",
      " - 2s - loss: 0.3276 - accuracy: 0.8703 - val_loss: 0.3558 - val_accuracy: 0.8506\n",
      "Epoch 4/30\n",
      " - 2s - loss: 0.2764 - accuracy: 0.8926 - val_loss: 0.3452 - val_accuracy: 0.8527\n",
      "Epoch 5/30\n",
      " - 2s - loss: 0.2406 - accuracy: 0.9070 - val_loss: 0.3395 - val_accuracy: 0.8555\n",
      "Epoch 6/30\n",
      " - 2s - loss: 0.2138 - accuracy: 0.9186 - val_loss: 0.3455 - val_accuracy: 0.8504\n",
      "Epoch 7/30\n",
      " - 2s - loss: 0.1924 - accuracy: 0.9282 - val_loss: 0.3502 - val_accuracy: 0.8549\n",
      "Epoch 8/30\n",
      " - 2s - loss: 0.1736 - accuracy: 0.9348 - val_loss: 0.3688 - val_accuracy: 0.8472\n",
      "Epoch 9/30\n",
      " - 2s - loss: 0.1596 - accuracy: 0.9409 - val_loss: 0.3740 - val_accuracy: 0.8523\n",
      "Epoch 10/30\n",
      " - 2s - loss: 0.1450 - accuracy: 0.9478 - val_loss: 0.3905 - val_accuracy: 0.8469\n",
      "Epoch 11/30\n",
      " - 2s - loss: 0.1346 - accuracy: 0.9525 - val_loss: 0.4060 - val_accuracy: 0.8487\n",
      "Epoch 12/30\n",
      " - 2s - loss: 0.1246 - accuracy: 0.9564 - val_loss: 0.4240 - val_accuracy: 0.8443\n",
      "Epoch 13/30\n",
      " - 2s - loss: 0.1148 - accuracy: 0.9598 - val_loss: 0.4741 - val_accuracy: 0.8313\n",
      "Epoch 14/30\n",
      " - 2s - loss: 0.1077 - accuracy: 0.9632 - val_loss: 0.4689 - val_accuracy: 0.8379\n",
      "Epoch 15/30\n",
      " - 2s - loss: 0.1005 - accuracy: 0.9658 - val_loss: 0.4804 - val_accuracy: 0.8431\n",
      "Epoch 16/30\n",
      " - 2s - loss: 0.0930 - accuracy: 0.9691 - val_loss: 0.5020 - val_accuracy: 0.8383\n",
      "Epoch 17/30\n",
      " - 2s - loss: 0.0860 - accuracy: 0.9724 - val_loss: 0.5278 - val_accuracy: 0.8383\n",
      "Epoch 18/30\n",
      " - 2s - loss: 0.0799 - accuracy: 0.9747 - val_loss: 0.5539 - val_accuracy: 0.8351\n",
      "Epoch 19/30\n",
      " - 2s - loss: 0.0746 - accuracy: 0.9767 - val_loss: 0.5759 - val_accuracy: 0.8306\n",
      "Epoch 20/30\n",
      " - 2s - loss: 0.0698 - accuracy: 0.9772 - val_loss: 0.6004 - val_accuracy: 0.8323\n",
      "Epoch 21/30\n",
      " - 2s - loss: 0.0656 - accuracy: 0.9796 - val_loss: 0.6295 - val_accuracy: 0.8298\n",
      "Epoch 22/30\n",
      " - 2s - loss: 0.0616 - accuracy: 0.9805 - val_loss: 0.6643 - val_accuracy: 0.8244\n",
      "Epoch 23/30\n",
      " - 2s - loss: 0.0575 - accuracy: 0.9822 - val_loss: 0.6886 - val_accuracy: 0.8240\n",
      "Epoch 24/30\n",
      " - 2s - loss: 0.0551 - accuracy: 0.9827 - val_loss: 0.7311 - val_accuracy: 0.8229\n",
      "Epoch 25/30\n",
      " - 2s - loss: 0.0497 - accuracy: 0.9849 - val_loss: 0.7491 - val_accuracy: 0.8240\n",
      "Epoch 26/30\n",
      " - 2s - loss: 0.0470 - accuracy: 0.9866 - val_loss: 0.7682 - val_accuracy: 0.8229\n",
      "Epoch 27/30\n",
      " - 2s - loss: 0.0442 - accuracy: 0.9875 - val_loss: 0.8077 - val_accuracy: 0.8197\n",
      "Epoch 28/30\n",
      " - 2s - loss: 0.0407 - accuracy: 0.9882 - val_loss: 0.8425 - val_accuracy: 0.8197\n",
      "Epoch 29/30\n",
      " - 2s - loss: 0.0383 - accuracy: 0.9889 - val_loss: 0.8670 - val_accuracy: 0.8195\n",
      "Epoch 30/30\n",
      " - 2s - loss: 0.0359 - accuracy: 0.9902 - val_loss: 0.8909 - val_accuracy: 0.8167\n"
     ]
    }
   ],
   "source": [
    "#training model\n",
    "history = model.fit(\n",
    "    training_sequences_padded,\n",
    "    training_labels,\n",
    "    epochs=30,\n",
    "    validation_data=(testing_sequences_padded,testing_labels),\n",
    "    verbose=2,\n",
    ")"
   ]
  },
  {
   "cell_type": "code",
   "execution_count": 154,
   "metadata": {},
   "outputs": [
    {
     "name": "stdout",
     "output_type": "stream",
     "text": [
      "[[0.02933377]\n",
      " [0.00061305]]\n"
     ]
    }
   ],
   "source": [
    "#using to establish sentiments for new sentences\n",
    "input_sentence = [\"That's just what I needed today!\",'the weather today is bright and sunny']\n",
    "tokenizer = Tokenizer(num_words=vocab_size)\n",
    "tokenizer.fit_on_texts(input_sentence)\n",
    "word_index = tokenizer.word_index\n",
    "\n",
    "sequence = tokenizer.texts_to_sequences(input_sentence)\n",
    "\n",
    "padded = pad_sequences(sequence,padding='post',maxlen=max_length,truncating='post')\n",
    "\n",
    "predictions = model.predict(padded)\n",
    "print(predictions)"
   ]
  },
  {
   "cell_type": "code",
   "execution_count": null,
   "metadata": {},
   "outputs": [],
   "source": []
  }
 ],
 "metadata": {
  "kernelspec": {
   "display_name": "Python 3",
   "language": "python",
   "name": "python3"
  },
  "language_info": {
   "codemirror_mode": {
    "name": "ipython",
    "version": 3
   },
   "file_extension": ".py",
   "mimetype": "text/x-python",
   "name": "python",
   "nbconvert_exporter": "python",
   "pygments_lexer": "ipython3",
   "version": "3.6.10"
  }
 },
 "nbformat": 4,
 "nbformat_minor": 4
}
